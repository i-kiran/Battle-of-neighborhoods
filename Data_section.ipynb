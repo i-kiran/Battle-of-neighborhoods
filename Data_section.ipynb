{
 "cells": [
  {
   "cell_type": "markdown",
   "metadata": {},
   "source": [
    "## Data Section\n",
    "_______________________________________\n",
    "For my analysis I will be using \"HM Land Registry\" of UK for 2020 where you can find records on the Price Paid Data and you can download it as .csv or .txt file. I will be using .csv file . \n",
    "The following fields comprise the address data included in Price Paid Data:\n",
    "<br>\n",
    "1.Postcode\n",
    "<br>\n",
    "2.PAON : Primary Addressable Object Name ( Typically the house number or name)\n",
    "<br>\n",
    "3.SAON : Secondary Addressable Object Name ( If there is a sub-building, for example, the building is divided into flats, there will be a SAON.)\n",
    "<br>\n",
    "4.Street\n",
    "<br>\n",
    "5.Locality\n",
    "<br>\n",
    "6.Town or City\n",
    "<br>\n",
    "7.District\n",
    "<br>\n",
    "8.County\n",
    "<br>\n",
    "I chose this data set as it is published by UK government and therefore it has better probability of correctness as compared to other datasets. It has all the attributes regarding locality , Postcode that simplifies the search . I will also be accessing Foursquare Api for detailed facilities available at the various streets to provide a clear comparison. It will help in getting data for the fast food chains around the future property and when combining it with the price paid data per house to get the best property for our needs.\n",
    "This is the link to the site : https://www.gov.uk/government/statistical-data-sets/price-paid-data-downloads This is the link to the price data for the whole 2018 : http://prod.publicdata.landregistry.gov.uk.s3-website-eu-west-1.amazonaws.com/pp-monthly-update-new-version.csv . "
   ]
  }
 ],
 "metadata": {
  "kernelspec": {
   "display_name": "Python",
   "language": "python",
   "name": "conda-env-python-py"
  },
  "language_info": {
   "codemirror_mode": {
    "name": "ipython",
    "version": 3
   },
   "file_extension": ".py",
   "mimetype": "text/x-python",
   "name": "python",
   "nbconvert_exporter": "python",
   "pygments_lexer": "ipython3",
   "version": "3.6.11"
  }
 },
 "nbformat": 4,
 "nbformat_minor": 4
}
