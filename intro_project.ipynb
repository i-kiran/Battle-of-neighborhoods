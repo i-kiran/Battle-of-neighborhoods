{
 "cells": [
  {
   "cell_type": "markdown",
   "metadata": {},
   "source": [
    "#                                           INTRODUCTION\n",
    "------------------------------------------------------------\n",
    "\n",
    "## Background discussion\n",
    "________________________\n",
    "Due to the COVID-19 pandemic , students are forced for studying at home but after this whole situation ends, a student is going to continue his/her studies at a College in Southampton. So this problem belongs to all those students who want to go abroad(Southampton) for higher studies . He/She is interested in buying the cheapest house in Southampton, UK where he/she gets all kinds of restaurants and fast-food chains in  vicinity which are the cheapest in town because he/she is bad at cooking and  won't get much time to cook due to higher studies and part-time jobs and plans to never cook in your life. In our scenario, we will be exploring the cheapest houses in Washington, DC near the cheapest and many fast-food chains. We will recommend the perfect place with all the desired and required facilities.\n",
    "## Business discussion\n",
    "______________________\n",
    "We are low on cash due to admission fee payments and we are not selected for any jobs yet. As a result, the business problem is where can we buy a suitable house in Southampton, UK when we are having a housing boom which drives prices ever higher and when you don't have time to cook and you don't like cooking. As a data scientist/house broker we will do a cluster of Southampton neighborhoods to get the venues with the best prices and we will be looking for cheap nearby fast-food chains and elementary schools for your children.Here the use of Foursquare - an Api which provides most updated data regarding the places to visit , food junctions , daily needs availability will help providing a detailed view of the luxuries and facilities preent in Southampton. The use of Foursquare will simplify the huge task of viewing and extracting useful information regarding the best and cheapest facilities available.\n"
   ]
  },
  {
   "cell_type": "code",
   "execution_count": null,
   "metadata": {},
   "outputs": [],
   "source": []
  }
 ],
 "metadata": {
  "kernelspec": {
   "display_name": "Python 3",
   "language": "python",
   "name": "python3"
  },
  "language_info": {
   "codemirror_mode": {
    "name": "ipython",
    "version": 3
   },
   "file_extension": ".py",
   "mimetype": "text/x-python",
   "name": "python",
   "nbconvert_exporter": "python",
   "pygments_lexer": "ipython3",
   "version": "3.7.3"
  }
 },
 "nbformat": 4,
 "nbformat_minor": 4
}
