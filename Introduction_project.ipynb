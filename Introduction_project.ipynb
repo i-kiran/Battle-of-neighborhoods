{
 "cells": [
  {
   "cell_type": "markdown",
   "metadata": {},
   "source": [
    "#                                           INTRODUCTION\n",
    "------------------------------------------------------------\n",
    "\n",
    "## Background discussion\n",
    "________________________\n",
    "Due to the COVID-19 pandemic , everyone is studying at home but after this whole situation ends, you are going to continue your studies at a College in Southampton. You are interested in buying the cheapest house in Southampton, UK where there are all kinds of restaurants and fast-food chains in your vicinity which are the cheapest in town because you are bad at cooking and you don't get much time to cook due to higher studies and part-time jobs and you plan to never cook in your life. In our scenario, we will be exploring the cheapest houses in Washington, DC near the cheapest and many fast-food chains. We will recommend the perfect place with all the desired and required facilities.\n",
    "## Business discussion\n",
    "______________________\n",
    "We are low on cash due to fee payments and we are not selected for any jobs yet. As a result, the business problem is where can we buy a suitable house in Southampton, UK when we are having a housing boom which drives prices ever higher and when you don't have time to cook and you don't like cooking. As a data scientist/house broker we will do a cluster of Southampton neighborhoods to get the venues with the best prices and we will be looking for cheap nearby fast-food chains and elementary schools for your children.\n"
   ]
  },
  {
   "cell_type": "code",
   "execution_count": null,
   "metadata": {},
   "outputs": [],
   "source": []
  }
 ],
 "metadata": {
  "kernelspec": {
   "display_name": "Python",
   "language": "python",
   "name": "conda-env-python-py"
  },
  "language_info": {
   "codemirror_mode": {
    "name": "ipython",
    "version": 3
   },
   "file_extension": ".py",
   "mimetype": "text/x-python",
   "name": "python",
   "nbconvert_exporter": "python",
   "pygments_lexer": "ipython3",
   "version": "3.6.11"
  }
 },
 "nbformat": 4,
 "nbformat_minor": 4
}
